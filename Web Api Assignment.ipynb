{
 "cells": [
  {
   "cell_type": "markdown",
   "id": "c4c6cfba-363b-4eac-82d5-3b41991e8530",
   "metadata": {},
   "source": [
    "Q.1 - What is an API? Give an example, where an API is used in real life."
   ]
  },
  {
   "cell_type": "markdown",
   "id": "925b905d-001b-49d5-886b-25046a3dc61f",
   "metadata": {},
   "source": [
    "API integrations are software components that automatically update data between clients and servers.\n",
    "\n",
    "\n",
    "API example is PayPal. PayPal is a fintech service that allows users to connect personal financial information to their PayPal account. This paves the way for easier, more secure money transfers."
   ]
  },
  {
   "cell_type": "markdown",
   "id": "8f29c5c3-524d-4227-9491-5097573338a4",
   "metadata": {},
   "source": [
    "Q.2 - Give advantages and disadvantages of using API."
   ]
  },
  {
   "cell_type": "markdown",
   "id": "3ec26714-1b38-4b7f-bdcf-f7fa5749c5c3",
   "metadata": {},
   "source": [
    "Advantages-\n",
    "\n",
    "\n",
    "1. Increased Interoperability: API solutions enable different software systems to communicate with each other, regardless of their programming language or platform. This enhances the interoperability between systems, allowing for the exchange of data and functionality.\n",
    "\n",
    "2. Improved Efficiency: API driven infrastructures enable developers to reuse code and functionality from existing software systems, saving time and reducing the amount of code that needs to be written from scratch.\n",
    "\n",
    "3. Better User Experience: APIs can enable third-party developers to create applications that integrate with existing software systems, providing a better user experience and increased functionality.\n",
    "\n",
    "4. Increased Flexibility: APIs provide developers with greater flexibility, enabling them to choose the best programming languages and frameworks for their needs.\n",
    "\n",
    "5. New Revenue Streams: APIs can enable companies to create new revenue streams by providing third-party developers with access to their software systems."
   ]
  },
  {
   "cell_type": "markdown",
   "id": "8a013d51-6156-463e-8a5c-c9d9e343b56f",
   "metadata": {},
   "source": [
    "Disadvantages-\n",
    "\n",
    "1. Security Concerns: API infrastructures can be vulnerable to security breaches, such as SQL injection attacks and cross-site scripting (XSS) attacks, making it crucial to implement security measures to protect against these threats.\n",
    "\n",
    "2. Complexity: APIs can be complex, requiring a significant amount of development effort to implement and maintain.\n",
    "\n",
    "3. Compatibility Issues: APIs can have compatibility issues between different versions of the same software system or between different systems, which can lead to errors and system failures.\n",
    "\n",
    "4. Dependency on Third-Party Developers: APIs rely on third-party developers to create applications that integrate with the software system. This can create dependencies that are outside of the control of the company that owns the software system.\n",
    "\n",
    "5. Governance and Management: APIs require proper governance and management to ensure they are being used correctly and consistently across different applications and systems."
   ]
  },
  {
   "cell_type": "markdown",
   "id": "970ed037-01cb-4318-af76-0ab8e7e31140",
   "metadata": {},
   "source": [
    "Q.3 - What is a Web API? Differentiate between API and Web API."
   ]
  },
  {
   "cell_type": "markdown",
   "id": "a2e569e1-7b03-4cb4-af69-51c11c039afc",
   "metadata": {},
   "source": [
    "A web API is an application programming interface for either a web server or a web browser. As a web development concept, it can be related to a web application's client side. \n",
    "\n",
    "Web service is used for REST, SOAP, and XML-RPC for communication, while API is used for any style of communication. Web service supports only HTTP protocol, whereas API supports HTTP/HTTPS protocol. Web service supports XML, while API supports XML and JSON. All Web services are APIs, but all APIs are not web services.\n",
    "\n",
    "Although APIs perform identical tasks, a Web API provides flexibility to any style of communication. Whereas a REST API can take advantage of using REST, SOAP, and XML-RPC for communication."
   ]
  },
  {
   "cell_type": "markdown",
   "id": "829388c6-015f-4075-bb8a-8498a59cf824",
   "metadata": {},
   "source": [
    "Q.4 - Explain REST and SOAP Architecture. Mention shortcomings of SOAP."
   ]
  },
  {
   "cell_type": "markdown",
   "id": "25f31faf-6085-4262-86cb-2db022bb3aa7",
   "metadata": {},
   "source": [
    "Representational state transfer (REST) is a set of architectural principles. \n",
    "There are two important participants in web service structures where REST architecture is used; server and client. One of the rules of REST architecture is that the server and the client are independent from each other. In other words, these two components should be able to be developed independently.\n",
    "\n",
    "\n",
    "Simple object access protocol (SOAP) is an official protocol maintained by the World Wide Web Consortium (W3C).\n",
    "The SOAP web services architecture is based on interactions between three components: a service provider, a service requester, and an optional service registry. A SOAP message is encoded as an XML document, consisting of an <Envelope> element, which contains an optional <Header> element, and a mandatory <Body> element."
   ]
  },
  {
   "cell_type": "raw",
   "id": "3ad10c17-13c8-4913-8309-cd891ed5bac4",
   "metadata": {},
   "source": [
    "Slow: SOAP uses XML format that must be parsed to be read. It defines many standards that must be followed while developing the SOAP applications. So it is slow and consumes more bandwidth and resource."
   ]
  },
  {
   "cell_type": "markdown",
   "id": "6db77861-9906-498a-8219-50201a51b38d",
   "metadata": {},
   "source": [
    "Q.5 - Differentiate between REST and SOAP."
   ]
  },
  {
   "cell_type": "markdown",
   "id": "cdf44b47-cbfe-4ac3-9fb9-2e7fe0961b54",
   "metadata": {},
   "source": [
    "The SOAP approach is highly structured and uses XML data format. REST is more flexible and allows applications to exchange data in multiple formats."
   ]
  },
  {
   "cell_type": "markdown",
   "id": "0409dffa-040d-497a-8664-6c7674d7ffe4",
   "metadata": {},
   "source": [
    "SOAP needs more bandwidth for its usage whereas REST doesn't need much bandwidth.\n",
    "\n",
    "Comparing SOAP vs REST API, SOAP only works with XML formats whereas REST work with plain text, XML, HTML and JSON. SOAP cannot make use of REST whereas REST can make use of SOAP.\n",
    "\n",
    "They both use HTTP, the standardized internet protocol, to exchange information"
   ]
  }
 ],
 "metadata": {
  "kernelspec": {
   "display_name": "Python 3 (ipykernel)",
   "language": "python",
   "name": "python3"
  },
  "language_info": {
   "codemirror_mode": {
    "name": "ipython",
    "version": 3
   },
   "file_extension": ".py",
   "mimetype": "text/x-python",
   "name": "python",
   "nbconvert_exporter": "python",
   "pygments_lexer": "ipython3",
   "version": "3.10.8"
  }
 },
 "nbformat": 4,
 "nbformat_minor": 5
}
